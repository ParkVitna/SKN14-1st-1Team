{
 "cells": [
  {
   "metadata": {},
   "cell_type": "markdown",
   "source": "# 프로젝트 진행 및 실행 전 선행작업",
   "id": "7f54d7972201977e"
  },
  {
   "metadata": {},
   "cell_type": "markdown",
   "source": [
    "## 패키지 설치\n",
    "- plotly\n",
    "- openpyxl"
   ],
   "id": "633a2a736efe3d28"
  },
  {
   "cell_type": "code",
   "id": "initial_id",
   "metadata": {
    "collapsed": true,
    "ExecuteTime": {
     "end_time": "2025-04-28T02:00:21.379144Z",
     "start_time": "2025-04-28T01:59:50.129932Z"
    }
   },
   "source": "!pip install plotly openpyxl",
   "outputs": [
    {
     "name": "stdout",
     "output_type": "stream",
     "text": [
      "Collecting plotly\n",
      "  Downloading plotly-6.0.1-py3-none-any.whl.metadata (6.7 kB)\n",
      "Collecting openpyxl\n",
      "  Downloading openpyxl-3.1.5-py2.py3-none-any.whl.metadata (2.5 kB)\n",
      "Requirement already satisfied: narwhals>=1.15.1 in c:\\users\\playdata2\\miniconda3\\envs\\pystudy_env\\lib\\site-packages (from plotly) (1.35.0)\n",
      "Requirement already satisfied: packaging in c:\\users\\playdata2\\miniconda3\\envs\\pystudy_env\\lib\\site-packages (from plotly) (24.2)\n",
      "Collecting et-xmlfile (from openpyxl)\n",
      "  Downloading et_xmlfile-2.0.0-py3-none-any.whl.metadata (2.7 kB)\n",
      "Downloading plotly-6.0.1-py3-none-any.whl (14.8 MB)\n",
      "   ---------------------------------------- 0.0/14.8 MB ? eta -:--:--\n",
      "   --------- ------------------------------ 3.7/14.8 MB 17.5 MB/s eta 0:00:01\n",
      "   ---------------------- ----------------- 8.4/14.8 MB 20.9 MB/s eta 0:00:01\n",
      "   -------------------------------------- - 14.4/14.8 MB 24.1 MB/s eta 0:00:01\n",
      "   ---------------------------------------- 14.8/14.8 MB 23.0 MB/s eta 0:00:00\n",
      "Downloading openpyxl-3.1.5-py2.py3-none-any.whl (250 kB)\n",
      "Downloading et_xmlfile-2.0.0-py3-none-any.whl (18 kB)\n",
      "Installing collected packages: plotly, et-xmlfile, openpyxl\n",
      "Successfully installed et-xmlfile-2.0.0 openpyxl-3.1.5 plotly-6.0.1\n"
     ]
    }
   ],
   "execution_count": 1
  },
  {
   "metadata": {},
   "cell_type": "markdown",
   "source": [
    "## Table 생성\n",
    "- MySQL 에 `root` 계정으로 접속해서 신규 스키마 `cardb` 생성하고,<br/>\n",
    "    `skn14` 계정에서 `cardb` 스키마에 대한 모든 권한 부여<br/>\n",
    "    ![신규 스키마 생성](images/new_schema.jpg)<br/>\n",
    "    ```sql\n",
    "\t\t;############################################\n",
    "\t\t;# 여기부터는 root 계정으로 수행해야 함.\n",
    "\t\t;############################################\n",
    "\t\tcreate database cardb;\n",
    "\t\tgrant all PRIVILEGES on cardb.* to 'skn14'@'%';\n",
    "    ```\n",
    "  <br/>\n",
    "- 각 작업자 PC 에 설치된 MySQL에 대한 접속정보 설정<br/>\n",
    "    ![DB 연결](images/dump_guide00.jpg)<br/>\n",
    "- skn14_localhost-2025_04_28_11_09_01-dump.sql 덤프 실행<br/>\n",
    "    ![DB 덤프 받기](images/dump_guide01.jpg)<br/>"
   ],
   "id": "f21a85fdc12eebe4"
  },
  {
   "metadata": {},
   "cell_type": "markdown",
   "source": [
    "## PyCharm 에 streamlit 실행/디버그 구성하기\n",
    "1. PyCharm 에서 구성 편집 메뉴를 연다.<br/>\n",
    "    ![구성 편집 메뉴 열기](images/pycharm_streamlit_01.jpg)<br/><br/>\n",
    "2. python 구성을 추가한다.<br/>\n",
    "    ![python 구성 추가](images/pycharm_streamlit_02.jpg)<br/><br/>\n",
    "3. `실행` 에는 python 을 실행할 환경과<br/>\n",
    "    streamlit 실행파일의 경로,<br/>\n",
    "    streamlit 이 수행할 명령어와 현재 작업중인 파일명 변수를 입력하고,<br/>\n",
    "    `작업 디렉터리`에는 `$FileDir$` 를 넣고 저장한다.<br/>\n",
    "    ![구성정보 입력](images/pycharm_streamlit_03.jpg)<br/>\n",
    "    ```commandline\n",
    "\t\t; streamlit 이 설치된 경로 확인\n",
    "\t\tC:/Users/Playdata2/miniconda3/envs/pystudy_env/Scripts/streamlit.exe\n",
    "\n",
    "\t\trun $FileName$\n",
    "\n",
    "\t\t$FileDir$\n",
    "    ```\n",
    "   <br/>"
   ],
   "id": "bf1c06a5b064a6c8"
  }
 ],
 "metadata": {
  "kernelspec": {
   "display_name": "Python 3",
   "language": "python",
   "name": "python3"
  },
  "language_info": {
   "codemirror_mode": {
    "name": "ipython",
    "version": 2
   },
   "file_extension": ".py",
   "mimetype": "text/x-python",
   "name": "python",
   "nbconvert_exporter": "python",
   "pygments_lexer": "ipython2",
   "version": "2.7.6"
  }
 },
 "nbformat": 4,
 "nbformat_minor": 5
}
